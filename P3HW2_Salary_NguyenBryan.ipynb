{
  "nbformat": 4,
  "nbformat_minor": 0,
  "metadata": {
    "colab": {
      "provenance": [],
      "authorship_tag": "ABX9TyOQlo4APM/+P0hF2yJ2WRYr",
      "include_colab_link": true
    },
    "kernelspec": {
      "name": "python3",
      "display_name": "Python 3"
    },
    "language_info": {
      "name": "python"
    }
  },
  "cells": [
    {
      "cell_type": "markdown",
      "metadata": {
        "id": "view-in-github",
        "colab_type": "text"
      },
      "source": [
        "<a href=\"https://colab.research.google.com/github/nguyenb3179/CTI110/blob/main/P3HW2_Salary_NguyenBryan.ipynb\" target=\"_parent\"><img src=\"https://colab.research.google.com/assets/colab-badge.svg\" alt=\"Open In Colab\"/></a>"
      ]
    },
    {
      "cell_type": "code",
      "execution_count": 1,
      "metadata": {
        "colab": {
          "base_uri": "https://localhost:8080/"
        },
        "id": "iBiw3YJQdOi2",
        "outputId": "9adc2818-aff3-4fb1-e4ab-a31dc92d9be7"
      },
      "outputs": [
        {
          "output_type": "stream",
          "name": "stdout",
          "text": [
            "Enter the name of the employee: Bryan\n",
            "Enter the number of hours the employee worked this week: 20\n",
            "Enter the employee's pay rate: 12\n",
            "\n",
            "Employee Details:\n",
            "Employee Name: Bryan\n",
            "Pay Rate: $12.00\n",
            "Hours Worked: 20.0 hours\n",
            "Overtime Hours: 0 hours\n",
            "Overtime Pay: $0.00\n",
            "Pay for Regular Hours: $240.00\n",
            "Gross Pay: $240.00\n"
          ]
        }
      ],
      "source": [
        "# Bryan Nguyen\n",
        "# 03/17/25\n",
        "# P3HW2\n",
        "# Calculating employee's pay\n",
        "\n",
        "# Ask for user input\n",
        "employee_name = input(\"Enter the name of the employee: \")\n",
        "hours_worked = float(input(\"Enter the number of hours the employee worked this week: \"))\n",
        "pay_rate = float(input(\"Enter the employee's pay rate: \"))\n",
        "\n",
        "# Check if the employee worked overtime (more than 40 hours)\n",
        "overtime_hours = 0\n",
        "regular_hours = hours_worked\n",
        "\n",
        "if hours_worked > 40:\n",
        "    overtime_hours = hours_worked - 40\n",
        "    regular_hours = 40\n",
        "\n",
        "# Calculate pay for regular hours and overtime hours\n",
        "regular_pay = regular_hours * pay_rate\n",
        "overtime_pay = overtime_hours * (pay_rate * 1.5)\n",
        "\n",
        "# Calculate gross pay (total pay)\n",
        "gross_pay = regular_pay + overtime_pay\n",
        "\n",
        "# Display the results\n",
        "print(\"\\nEmployee Details:\")\n",
        "print(f\"Employee Name: {employee_name}\")\n",
        "print(f\"Pay Rate: ${pay_rate:.2f}\")\n",
        "print(f\"Hours Worked: {hours_worked} hours\")\n",
        "print(f\"Overtime Hours: {overtime_hours} hours\")\n",
        "print(f\"Overtime Pay: ${overtime_pay:.2f}\")\n",
        "print(f\"Pay for Regular Hours: ${regular_pay:.2f}\")\n",
        "print(f\"Gross Pay: ${gross_pay:.2f}\")\n"
      ]
    }
  ]
}