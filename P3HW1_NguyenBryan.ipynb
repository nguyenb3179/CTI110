{
  "nbformat": 4,
  "nbformat_minor": 0,
  "metadata": {
    "colab": {
      "provenance": [],
      "authorship_tag": "ABX9TyNNiuxclpXtwRUXMnx2ZIs3",
      "include_colab_link": true
    },
    "kernelspec": {
      "name": "python3",
      "display_name": "Python 3"
    },
    "language_info": {
      "name": "python"
    }
  },
  "cells": [
    {
      "cell_type": "markdown",
      "metadata": {
        "id": "view-in-github",
        "colab_type": "text"
      },
      "source": [
        "<a href=\"https://colab.research.google.com/github/nguyenb3179/CTI110/blob/main/P3HW1_NguyenBryan.ipynb\" target=\"_parent\"><img src=\"https://colab.research.google.com/assets/colab-badge.svg\" alt=\"Open In Colab\"/></a>"
      ]
    },
    {
      "source": [
        "# Bryan Nguyen\n",
        "# 03/17/25\n",
        "# P3HW1\n",
        "# Debug and calculate grades\n",
        "\n",
        "\n",
        "# This program takes a number grade, determines average, and displays the letter grade for average.\n",
        "\n",
        "# Enter grades for six modules\n",
        "mod_1 = float(input('Enter grade for Module 1: '))\n",
        "mod_2 = float(input('Enter grade for Module 2: '))\n",
        "mod_3 = float(input('Enter grade for Module 3: '))\n",
        "mod_4 = float(input('Enter grade for Module 4: '))\n",
        "mod_5 = float(input('Enter grade for Module 5: '))\n",
        "mod_6 = float(input('Enter grade for Module 6: '))\n",
        "\n",
        "# Add grades entered to a list\n",
        "grades = [mod_1, mod_2, mod_3, mod_4, mod_5, mod_6]\n",
        "\n",
        "# Determine the lowest, highest, sum, and average for grades\n",
        "low = min(grades)\n",
        "high = max(grades)\n",
        "sum_grades = sum(grades)\n",
        "avg = sum_grades / len(grades)\n",
        "\n",
        "# Determine letter grade for the average\n",
        "if avg >= 90:\n",
        "    letter_grade = 'A'\n",
        "elif avg >= 80:\n",
        "    letter_grade = 'B'\n",
        "elif avg >= 70:\n",
        "    letter_grade = 'C'\n",
        "elif avg >= 60:\n",
        "    letter_grade = 'D'\n",
        "else:\n",
        "    letter_grade = 'F'\n",
        "\n",
        "# Print the results\n",
        "print(\"-----------Results----------\")\n",
        "print(f\"Lowest Grade: {low}\")\n",
        "print(f\"Highest Grade: {high}\")\n",
        "print(f\"Sum of Grades: {sum_grades}\")\n",
        "print(f\"Average: {avg:.2f}\")\n",
        "print(\"-----------------------------\")\n",
        "print(f\"Your grade is: {letter_grade}\")\n"
      ],
      "cell_type": "code",
      "metadata": {
        "colab": {
          "base_uri": "https://localhost:8080/"
        },
        "id": "MhCK0XEQcTTP",
        "outputId": "04f88908-46c6-4957-ee7d-4266805fd5b7"
      },
      "execution_count": 6,
      "outputs": [
        {
          "output_type": "stream",
          "name": "stdout",
          "text": [
            "Enter grade for Module 1: 90\n",
            "Enter grade for Module 2: 89\n",
            "Enter grade for Module 3: 88\n",
            "Enter grade for Module 4: 99\n",
            "Enter grade for Module 5: 100\n",
            "Enter grade for Module 6: 0\n",
            "-----------Results----------\n",
            "Lowest Grade: 0.0\n",
            "Highest Grade: 100.0\n",
            "Sum of Grades: 466.0\n",
            "Average: 77.67\n",
            "----------------------------\n",
            "Your grade is: C\n"
          ]
        }
      ]
    }
  ]
}