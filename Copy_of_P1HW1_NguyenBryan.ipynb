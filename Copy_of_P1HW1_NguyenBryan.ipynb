{
  "nbformat": 4,
  "nbformat_minor": 0,
  "metadata": {
    "colab": {
      "provenance": [],
      "authorship_tag": "ABX9TyNyAbrbrKmzxto0PRdd28bO",
      "include_colab_link": true
    },
    "kernelspec": {
      "name": "python3",
      "display_name": "Python 3"
    },
    "language_info": {
      "name": "python"
    }
  },
  "cells": [
    {
      "cell_type": "markdown",
      "metadata": {
        "id": "view-in-github",
        "colab_type": "text"
      },
      "source": [
        "<a href=\"https://colab.research.google.com/github/nguyenb3179/CTI110/blob/main/Copy_of_P1HW1_NguyenBryan.ipynb\" target=\"_parent\"><img src=\"https://colab.research.google.com/assets/colab-badge.svg\" alt=\"Open In Colab\"/></a>"
      ]
    },
    {
      "cell_type": "code",
      "execution_count": null,
      "metadata": {
        "id": "LvGbh6Cibq4F"
      },
      "outputs": [],
      "source": [
        "#Bryan Nguyen\n",
        "#02/11/2025\n",
        "#P1HW1\n",
        "#Code that collects information from user, processes information collected and display results to user."
      ]
    },
    {
      "cell_type": "code",
      "source": [
        "base = float(input(\"Enter an integer as the base value: \"))\n",
        "exponent = float(input(\"Enter an integer as the exponent: \"))\n",
        "\n",
        "result = base ** exponent\n",
        "print(f\"{base} raised to the power of {exponent} is {result} !!\")\n",
        "\n"
      ],
      "metadata": {
        "id": "L0yV_Kakc7uf"
      },
      "execution_count": null,
      "outputs": []
    },
    {
      "cell_type": "code",
      "source": [
        "\n",
        "starting_integer = int(input(\"Enter a starting integer: \"))\n",
        "add_integer = int(input(\"Enter an integer to add: \"))\n",
        "subtract_integer = int(input(\"Enter an integer to subtract: \"))\n",
        "\n",
        "\n",
        "result = starting_integer + add_integer - subtract_integer\n",
        "\n",
        "\n",
        "print(f\"{starting_integer} + {add_integer} - {subtract_integer} is equal to {result}\")\n"
      ],
      "metadata": {
        "colab": {
          "base_uri": "https://localhost:8080/"
        },
        "id": "QyO-2xZifo43",
        "outputId": "8d6da3e7-968b-4989-959d-909cc80596d9"
      },
      "execution_count": null,
      "outputs": [
        {
          "output_type": "stream",
          "name": "stdout",
          "text": [
            "Enter a starting integer: 10\n",
            "Enter an integer to add: 6\n",
            "Enter an integer to subtract: 4\n",
            "10 + 6 - 4 is equal to 12\n"
          ]
        }
      ]
    }
  ]
}