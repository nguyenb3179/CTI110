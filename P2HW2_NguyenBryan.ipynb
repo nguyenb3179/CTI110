{
  "nbformat": 4,
  "nbformat_minor": 0,
  "metadata": {
    "colab": {
      "provenance": [],
      "authorship_tag": "ABX9TyNFsOz4FZZXP/B8MbpOJpz7",
      "include_colab_link": true
    },
    "kernelspec": {
      "name": "python3",
      "display_name": "Python 3"
    },
    "language_info": {
      "name": "python"
    }
  },
  "cells": [
    {
      "cell_type": "markdown",
      "metadata": {
        "id": "view-in-github",
        "colab_type": "text"
      },
      "source": [
        "<a href=\"https://colab.research.google.com/github/nguyenb3179/CTI110/blob/main/P2HW2_NguyenBryan.ipynb\" target=\"_parent\"><img src=\"https://colab.research.google.com/assets/colab-badge.svg\" alt=\"Open In Colab\"/></a>"
      ]
    },
    {
      "cell_type": "code",
      "execution_count": 18,
      "metadata": {
        "colab": {
          "base_uri": "https://localhost:8080/"
        },
        "id": "cjIttBHjjXbO",
        "outputId": "f0421d97-f703-4d34-d1a2-ff8b22ab2086"
      },
      "outputs": [
        {
          "output_type": "stream",
          "name": "stdout",
          "text": [
            "Enter grade for Module 1: 9\n",
            "Enter grade for Module 2: 10\n",
            "Enter grade for Module 3: 22\n",
            "Enter grade for Module 4: 8\n",
            "Enter grade for Module 5: 7\n",
            "Enter grade for Module 6: 10\n",
            "\n",
            "[9.0, 10.0, 22.0, 8.0, 7.0, 10.0]\n",
            "\n",
            "-----------Results-----------\n",
            "Lowest Grade:           7.0\n",
            "Highest Grade:          22.0\n",
            "Sum of Grades:          66.0\n",
            "Average:                11.00\n",
            "------------------------------\n"
          ]
        }
      ],
      "source": [
        "# Bryan Nguyen\n",
        "\n",
        "# 02/24/2025\n",
        "\n",
        "# P2HW2\n",
        "\n",
        "# Use list to capture student's grade\n",
        "\n",
        "# Get 6 grades form the user - they should be floats\n",
        "grade1 = float(input(\"Enter grade for Module 1: \"))\n",
        "grade2 = float(input(\"Enter grade for Module 2: \"))\n",
        "grade3 = float(input(\"Enter grade for Module 3: \"))\n",
        "grade4 = float(input(\"Enter grade for Module 4: \"))\n",
        "grade5 = float(input(\"Enter grade for Module 5: \"))\n",
        "grade6 = float(input(\"Enter grade for Module 6: \"))\n",
        "\n",
        "# Create an empty list\n",
        "grades_list = []\n",
        "\n",
        "# Use the append method to add all grades into the list\n",
        "grades_list.append(grade1)\n",
        "grades_list.append(grade2)\n",
        "grades_list.append(grade3)\n",
        "grades_list.append(grade4)\n",
        "grades_list.append(grade5)\n",
        "grades_list.append(grade6)\n",
        "print()\n",
        "\n",
        "# Display the list\n",
        "print(grades_list)\n",
        "print()\n",
        "\n",
        "#Display values to user\n",
        "print(\"-----------Results-----------\")\n",
        "print(f\"{'Lowest Grade:':<23} {min(grades_list)}\")\n",
        "print(f\"{'Highest Grade:':<23} {max(grades_list)}\")\n",
        "print(f\"{'Sum of Grades:':<23} {sum(grades_list)}\")\n",
        "average = sum(grades_list) / len(grades_list)\n",
        "print(f\"{'Average:':<23} {average:.2f}\")\n",
        "print(\"------------------------------\")\n",
        "\n",
        "\n",
        "\n",
        "\n"
      ]
    },
    {
      "cell_type": "code",
      "source": [],
      "metadata": {
        "id": "aYqzITnFyJ5v"
      },
      "execution_count": null,
      "outputs": []
    }
  ]
}