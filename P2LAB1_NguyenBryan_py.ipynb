{
  "nbformat": 4,
  "nbformat_minor": 0,
  "metadata": {
    "colab": {
      "provenance": [],
      "authorship_tag": "ABX9TyNfkC+dCl6vP9nvYL+xu0kJ",
      "include_colab_link": true
    },
    "kernelspec": {
      "name": "python3",
      "display_name": "Python 3"
    },
    "language_info": {
      "name": "python"
    }
  },
  "cells": [
    {
      "cell_type": "markdown",
      "metadata": {
        "id": "view-in-github",
        "colab_type": "text"
      },
      "source": [
        "<a href=\"https://colab.research.google.com/github/nguyenb3179/CTI110/blob/main/P2LAB1_NguyenBryan_py.ipynb\" target=\"_parent\"><img src=\"https://colab.research.google.com/assets/colab-badge.svg\" alt=\"Open In Colab\"/></a>"
      ]
    },
    {
      "cell_type": "code",
      "execution_count": null,
      "metadata": {
        "id": "5c_OKwR5rG5n"
      },
      "outputs": [],
      "source": [
        "# Nguyen Bryan\n",
        "# 02/17/2025\n",
        "# P2LAB1\n",
        "# Calculating diameter, circumference and area by using user's radius input.\n",
        "import math\n",
        "\n",
        "# Getting the radius from the user as a float\n",
        "radius = float(input(\"What is the radius of the circle?: \"))\n",
        "\n",
        "# Calculating diameter\n",
        "diameter = 2 * radius\n",
        "\n",
        "# Calculate circumference\n",
        "circumference = 2 * math.pi * radius\n",
        "\n",
        "# Calculating area\n",
        "area = math.pi * radius ** 2\n",
        "\n",
        "# Displaying values to the user\n",
        "print(f\"The diameter of the circle is {diameter:.1f}\")\n",
        "print(f\"The circumference of the circle is {circumference:.2f}\")\n",
        "print(f\"The area of the circle is {area:.3f}\")\n",
        "\n"
      ]
    }
  ]
}