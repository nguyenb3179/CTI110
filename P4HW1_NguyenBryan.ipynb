{
  "nbformat": 4,
  "nbformat_minor": 0,
  "metadata": {
    "colab": {
      "provenance": [],
      "authorship_tag": "ABX9TyNunGwitncq++NGSM96NpUM",
      "include_colab_link": true
    },
    "kernelspec": {
      "name": "python3",
      "display_name": "Python 3"
    },
    "language_info": {
      "name": "python"
    }
  },
  "cells": [
    {
      "cell_type": "markdown",
      "metadata": {
        "id": "view-in-github",
        "colab_type": "text"
      },
      "source": [
        "<a href=\"https://colab.research.google.com/github/nguyenb3179/CTI110/blob/main/P4HW1_NguyenBryan.ipynb\" target=\"_parent\"><img src=\"https://colab.research.google.com/assets/colab-badge.svg\" alt=\"Open In Colab\"/></a>"
      ]
    },
    {
      "cell_type": "code",
      "execution_count": null,
      "metadata": {
        "colab": {
          "base_uri": "https://localhost:8080/"
        },
        "id": "eJSIt4flfi42",
        "outputId": "cfa47ebf-41c5-4391-90bc-a98f28212cd0"
      },
      "outputs": [
        {
          "output_type": "stream",
          "name": "stdout",
          "text": [
            "How many scores do you want to enter? 3\n",
            "Enter score #1: 100\n",
            "Enter score #2: -1\n",
            "INVALID Score entered!!!!\n",
            "Score should be between 0 and 100\n",
            "Enter score #2: 100\n",
            "Enter score #3: 100\n",
            "\n",
            "------------------Results--------------------\n",
            "Lowest Score: 100.0\n",
            "Modified List: [100.0, 100.0]\n",
            "Scores Average: 100.00\n",
            "Grade: A\n",
            "----------------------------------------------\n"
          ]
        }
      ],
      "source": [
        "def get_valid_score(score_number):\n",
        "    while True:\n",
        "        try:\n",
        "            score = float(input(f\"Enter score #{score_number}: \"))\n",
        "            if 0 <= score <= 100:\n",
        "                return score\n",
        "            else:\n",
        "                print(\"INVALID Score entered!!!!\")\n",
        "                print(\"Score should be between 0 and 100\")\n",
        "        except ValueError:\n",
        "            print(\"INVALID input! Please enter a number between 0 and 100.\")\n",
        "\n",
        "def calculate_grade(average):\n",
        "    if average >= 90:\n",
        "        return 'A'\n",
        "    elif average >= 80:\n",
        "        return 'B'\n",
        "    elif average >= 70:\n",
        "        return 'C'\n",
        "    elif average >= 60:\n",
        "        return 'D'\n",
        "    else:\n",
        "        return 'F'\n",
        "\n",
        "def main():\n",
        "    num_scores = int(input(\"How many scores do you want to enter? \"))\n",
        "    scores = []\n",
        "\n",
        "    for i in range(1, num_scores + 1):\n",
        "        score = get_valid_score(i)\n",
        "        scores.append(score)\n",
        "\n",
        "    # Remove the lowest score\n",
        "    lowest_score = min(scores)\n",
        "    scores.remove(lowest_score)\n",
        "\n",
        "    # Calculate the average of the remaining scores\n",
        "    average_score = sum(scores) / len(scores)\n",
        "\n",
        "    # Determine the grade based on the average score\n",
        "    grade = calculate_grade(average_score)\n",
        "\n",
        "    # Output the results\n",
        "    print(\"\\n------------------Results--------------------\")\n",
        "    print(f\"Lowest Score: {lowest_score}\")\n",
        "    print(f\"Modified List: {scores}\")\n",
        "    print(f\"Scores Average: {average_score:.2f}\")\n",
        "    print(f\"Grade: {grade}\")\n",
        "    print(\"----------------------------------------------\")\n",
        "\n",
        "if __name__ == \"__main__\":\n",
        "    main()"
      ]
    },
    {
      "cell_type": "code",
      "source": [],
      "metadata": {
        "id": "gwbSOBu9lVLQ"
      },
      "execution_count": null,
      "outputs": []
    }
  ]
}