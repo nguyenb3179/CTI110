{
  "nbformat": 4,
  "nbformat_minor": 0,
  "metadata": {
    "colab": {
      "provenance": [],
      "authorship_tag": "ABX9TyMXkHzy9/Ln87EtNeZBD9Fb",
      "include_colab_link": true
    },
    "kernelspec": {
      "name": "python3",
      "display_name": "Python 3"
    },
    "language_info": {
      "name": "python"
    }
  },
  "cells": [
    {
      "cell_type": "markdown",
      "metadata": {
        "id": "view-in-github",
        "colab_type": "text"
      },
      "source": [
        "<a href=\"https://colab.research.google.com/github/nguyenb3179/CTI110/blob/main/P2LAB2_NguyenBryan.ipynb\" target=\"_parent\"><img src=\"https://colab.research.google.com/assets/colab-badge.svg\" alt=\"Open In Colab\"/></a>"
      ]
    },
    {
      "source": [
        "# Bryan Nguyen\n",
        "# 02/19/2025\n",
        "# P2LAB2\n",
        "# Working with dictionaries\n",
        "\n",
        "#Create a dictionary with car models\n",
        "car = {\"Camaro\" : 18.21, \"Prius\" : 52.36, \"Model S\" : 110, \"Silverado\" : 26}\n",
        "print()\n",
        "# Create a list of keys in the dictionary\n",
        "keys = car.keys()\n",
        "print()\n",
        "# View the contents of the keys list\n",
        "print(keys)\n",
        "print()\n",
        "# Get one of the kets from the user\n",
        "user_input = input(\"Enter a vehicle to see its mpg: \")\n",
        "print()\n",
        "# With user_input holding the key, we want back the value\n",
        "print(f\"The {user_input} gets {car[user_input]} mpg. \")\n",
        "print()\n",
        "# Get number of miles to drive from the user\n",
        "miles = float(input(f\"How many miles will you drive the {user_input}? \"))\n",
        "print()\n",
        "# Calculate amount of gas needed to drive the chosen car the given number of miles\n",
        "num_gallons = miles/car[user_input]\n",
        "\n",
        "print(f\"{num_gallons:.2f} gallon(s) are needed to drive the {user_input} {miles} miles.\")\n"
      ],
      "cell_type": "code",
      "metadata": {
        "colab": {
          "base_uri": "https://localhost:8080/"
        },
        "id": "EOMtuYTF3NFK",
        "outputId": "83858a04-4285-4ef1-c43e-56b3f5aaf181"
      },
      "execution_count": 10,
      "outputs": [
        {
          "output_type": "stream",
          "name": "stdout",
          "text": [
            "\n",
            "\n",
            "dict_keys(['Camaro', 'Prius', 'Model S', 'Silverado'])\n",
            "\n",
            "Enter a vehicle to see its mpg: Silverado\n",
            "\n",
            "The Silverado gets 26 mpg. \n",
            "\n",
            "How many miles will you drive the Silverado? 200\n",
            "\n",
            "7.69 gallon(s) are needed to drive the Silverado 200.0 miles.\n"
          ]
        }
      ]
    }
  ]
}