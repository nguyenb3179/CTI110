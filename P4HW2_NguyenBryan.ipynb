{
  "nbformat": 4,
  "nbformat_minor": 0,
  "metadata": {
    "colab": {
      "provenance": [],
      "authorship_tag": "ABX9TyOQ8nhzKX2TCTqrFXtAGFkz",
      "include_colab_link": true
    },
    "kernelspec": {
      "name": "python3",
      "display_name": "Python 3"
    },
    "language_info": {
      "name": "python"
    }
  },
  "cells": [
    {
      "cell_type": "markdown",
      "metadata": {
        "id": "view-in-github",
        "colab_type": "text"
      },
      "source": [
        "<a href=\"https://colab.research.google.com/github/nguyenb3179/CTI110/blob/main/P4HW2_NguyenBryan.ipynb\" target=\"_parent\"><img src=\"https://colab.research.google.com/assets/colab-badge.svg\" alt=\"Open In Colab\"/></a>"
      ]
    },
    {
      "cell_type": "code",
      "execution_count": null,
      "metadata": {
        "colab": {
          "base_uri": "https://localhost:8080/"
        },
        "id": "ze_VoNAvmTRo",
        "outputId": "03ae91ea-4194-47a5-dda9-e9214474fbca"
      },
      "outputs": [
        {
          "output_type": "stream",
          "name": "stdout",
          "text": [
            "Enter employee's name or 'Done' to terminate: mary\n",
            "How many hours did mary work? 19\n",
            "What is mary's pay rate? 15\n",
            "Enter employee's name or 'Done' to terminate: james\n",
            "How many hours did james work? 13\n",
            "What is james's pay rate? 99\n",
            "Enter employee's name or 'Done' to terminate: done\n",
            "\n",
            "\n",
            "Employee name:         Hours Worked   Pay Rate   OverTime   OverTime Pay   RegHour Pay   Gross Pay\n",
            "----------------------------------------------------------------------------------------------\n",
            "mary                         19.0      15.00        0.0           0.00       285.00       285.00\n",
            "james                        13.0      99.00        0.0           0.00      1287.00      1287.00\n",
            "\n",
            "\n",
            "Total number of employees entered: 2\n",
            "Total amount paid for overtime:    $0.00\n",
            "Total amount paid for regular hours: $1572.00\n",
            "Total amount paid in gross:        $1572.00\n"
          ]
        }
      ],
      "source": [
        "def calculate_payroll():\n",
        "    employees = []\n",
        "\n",
        "    while True:\n",
        "        name = input(\"Enter employee's name or 'Done' to terminate: \")\n",
        "        if name.lower() == 'done':\n",
        "            break\n",
        "\n",
        "        hours_worked = float(input(f\"How many hours did {name} work? \"))\n",
        "        pay_rate = float(input(f\"What is {name}'s pay rate? \"))\n",
        "\n",
        "        overtime_hours = max(0, hours_worked - 40)\n",
        "        regular_hours = min(40, hours_worked)\n",
        "        overtime_pay = overtime_hours * (pay_rate * 1.5)\n",
        "        regular_pay = regular_hours * pay_rate\n",
        "        gross_pay = regular_pay + overtime_pay\n",
        "\n",
        "        employees.append({\n",
        "            \"name\": name,\n",
        "            \"hours_worked\": hours_worked,\n",
        "            \"pay_rate\": pay_rate,\n",
        "            \"overtime_hours\": overtime_hours,\n",
        "            \"overtime_pay\": overtime_pay,\n",
        "            \"regular_pay\": regular_pay,\n",
        "            \"gross_pay\": gross_pay\n",
        "        })\n",
        "\n",
        "    print(\"\\n\")\n",
        "    print(\"Employee name:         Hours Worked   Pay Rate   OverTime   OverTime Pay   RegHour Pay   Gross Pay\")\n",
        "    print(\"----------------------------------------------------------------------------------------------\")\n",
        "    total_overtime_pay = 0\n",
        "    total_regular_pay = 0\n",
        "    total_gross_pay = 0\n",
        "\n",
        "    for emp in employees:\n",
        "        print(f\"{emp['name']:20} {emp['hours_worked']:12.1f} {emp['pay_rate']:10.2f} {emp['overtime_hours']:10.1f} {emp['overtime_pay']:14.2f} {emp['regular_pay']:12.2f} {emp['gross_pay']:12.2f}\")\n",
        "\n",
        "        total_overtime_pay += emp['overtime_pay']\n",
        "        total_regular_pay += emp['regular_pay']\n",
        "        total_gross_pay += emp['gross_pay']\n",
        "\n",
        "    print(\"\\n\")\n",
        "    print(f\"Total number of employees entered: {len(employees)}\")\n",
        "    print(f\"Total amount paid for overtime:    ${total_overtime_pay:.2f}\")\n",
        "    print(f\"Total amount paid for regular hours: ${total_regular_pay:.2f}\")\n",
        "    print(f\"Total amount paid in gross:        ${total_gross_pay:.2f}\")\n",
        "\n",
        "if __name__ == \"__main__\":\n",
        "    calculate_payroll()\n"
      ]
    }
  ]
}