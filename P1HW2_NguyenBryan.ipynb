{
  "nbformat": 4,
  "nbformat_minor": 0,
  "metadata": {
    "colab": {
      "provenance": [],
      "authorship_tag": "ABX9TyOerp1Xsw5LjWP/9tjlfqks",
      "include_colab_link": true
    },
    "kernelspec": {
      "name": "python3",
      "display_name": "Python 3"
    },
    "language_info": {
      "name": "python"
    }
  },
  "cells": [
    {
      "cell_type": "markdown",
      "metadata": {
        "id": "view-in-github",
        "colab_type": "text"
      },
      "source": [
        "<a href=\"https://colab.research.google.com/github/nguyenb3179/CTI110/blob/main/P1HW2_NguyenBryan.ipynb\" target=\"_parent\"><img src=\"https://colab.research.google.com/assets/colab-badge.svg\" alt=\"Open In Colab\"/></a>"
      ]
    },
    {
      "cell_type": "code",
      "execution_count": 1,
      "metadata": {
        "id": "dTjdNedSihS1"
      },
      "outputs": [],
      "source": [
        "# Bryan Nguyen\n",
        "# 02/11/2025\n",
        "# P1HW1\n",
        "# This program calculates and displays travel expenses"
      ]
    },
    {
      "cell_type": "code",
      "source": [
        "budget = float(input(\"Enter Budget: \"))\n",
        "destination = input(\"Enter your travel destination: \")\n",
        "fuel_cost = float(input(\"How much do you think you will spend on gas? \"))\n",
        "accommodation_cost = float(input(\"Approximately, how much will you need for accommodation/hotel? \"))\n",
        "food_cost = float(input(\"Last, how much do you need for food? \"))\n",
        "\n",
        "total_expenses = fuel_cost + accommodation_cost + food_cost\n",
        "remaining_balance = budget - total_expenses\n",
        "\n",
        "print(\"\\n--Travel Expenses---\")\n",
        "print(f\"Location: {destination}\")\n",
        "print(f\"Initial Budget: {budget}\")\n",
        "print(f\"Fuel: {fuel_cost}\")\n",
        "print(f\"Accommodation: {accommodation_cost}\")\n",
        "print(f\"Food: {food_cost}\")\n",
        "print(f\"Remaining Balance: {remaining_balance}\")\n",
        "budget = float(input(\"Enter Budget: \"))\n",
        "destination = input(\"Enter your travel destination: \")\n",
        "fuel_cost = float(input(\"How much do you think you will spend on gas? \"))\n",
        "accommodation_cost = float(input(\"Approximately, how much will you need for accommodation/hotel? \"))\n",
        "food_cost = float(input(\"Last, how much do you need for food? \"))\n",
        "\n",
        "total_expenses = fuel_cost + accommodation_cost + food_cost\n",
        "remaining_balance = budget - total_expenses\n",
        "\n",
        "print(\"\\n--Travel Expenses---\")\n",
        "print(f\"Location: {destination}\")\n",
        "print(f\"Initial Budget: {budget}\")\n",
        "print(f\"Fuel: {fuel_cost}\")\n",
        "print(f\"Accommodation: {accommodation_cost}\")\n",
        "print(f\"Food: {food_cost}\")\n",
        "print(f\"Remaining Balance: {remaining_balance}\")\n",
        "\n",
        "# Pseudocode\n",
        "\n",
        "# 1. **Start**\n",
        "# 2. **Input**: Ask the user for their budget.\n",
        "#    - Prompt: \"Enter Budget:\"\n",
        "#    - Store input as `budget`\n",
        "\n",
        "# 3. **Input**: Ask the user for their travel destination.\n",
        "#    - Prompt: \"Enter your travel destination:\"\n",
        "#    - Store input as `destination`\n",
        "\n",
        "# 4. **Input**: Ask the user for the estimated fuel expenses.\n",
        "#    - Prompt: \"How much do you think you will spend on gas?\"\n",
        "#    - Store input as `fuel_cost`\n",
        "\n",
        "# 5. **Input**: Ask the user for the estimated accommodation expenses.\n",
        "#    - Prompt: \"Approximately, how much will you need for accommodation/hotel?\"\n",
        "#    - Store input as `accommodation_cost`\n",
        "\n",
        "# 6. **Input**: Ask the user for the estimated food expenses.\n",
        "#    - Prompt: \"Last, how much do you need for food?\"\n",
        "#    - Store input as `food_cost`\n",
        "\n",
        "# 7. **Calculate**: Add the fuel, accommodation, and food costs to get the total expenses.\n",
        "#    - `total_expenses = fuel_cost + accommodation_cost + food_cost`\n",
        "\n",
        "# 8. **Calculate**: Subtract the total expenses from the initial budget to find the remaining balance.\n",
        "#    - `remaining_balance = budget - total_expenses`\n",
        "\n",
        "# 9. **Output**: Display the travel expenses summary:\n",
        "#    - Print the travel destination.\n",
        "#    - Print the initial budget.\n",
        "#    - Print the individual expenses: fuel, accommodation, and food.\n",
        "#    - Print the remaining balance.\n",
        "\n",
        "# 10. **End**\n",
        "\n"
      ],
      "metadata": {
        "id": "qBWU6zjPi49o"
      },
      "execution_count": null,
      "outputs": []
    }
  ]
}