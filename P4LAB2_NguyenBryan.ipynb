{
  "nbformat": 4,
  "nbformat_minor": 0,
  "metadata": {
    "colab": {
      "provenance": [],
      "authorship_tag": "ABX9TyP23rxMR9b14Woy6UZzfojj",
      "include_colab_link": true
    },
    "kernelspec": {
      "name": "python3",
      "display_name": "Python 3"
    },
    "language_info": {
      "name": "python"
    }
  },
  "cells": [
    {
      "cell_type": "markdown",
      "metadata": {
        "id": "view-in-github",
        "colab_type": "text"
      },
      "source": [
        "<a href=\"https://colab.research.google.com/github/nguyenb3179/CTI110/blob/main/P4LAB2_NguyenBryan.ipynb\" target=\"_parent\"><img src=\"https://colab.research.google.com/assets/colab-badge.svg\" alt=\"Open In Colab\"/></a>"
      ]
    },
    {
      "cell_type": "code",
      "execution_count": 8,
      "metadata": {
        "colab": {
          "base_uri": "https://localhost:8080/"
        },
        "id": "810DUgwQ-QJV",
        "outputId": "b19f926f-2306-4d02-ef6e-1089fbe0e0e8"
      },
      "outputs": [
        {
          "output_type": "stream",
          "name": "stdout",
          "text": [
            "Enter an integer: 12\n",
            "12 * 1 = 12 \n",
            "12 * 2 = 24 \n",
            "12 * 3 = 36 \n",
            "12 * 4 = 48 \n",
            "12 * 5 = 60 \n",
            "12 * 6 = 72 \n",
            "12 * 7 = 84 \n",
            "12 * 8 = 96 \n",
            "12 * 9 = 108 \n",
            "12 * 10 = 120 \n",
            "12 * 11 = 132 \n",
            "12 * 12 = 144 \n",
            "Would you like to run the program again? (yes/no) yes\n",
            "Enter an integer: 9\n",
            "9 * 1 = 9 \n",
            "9 * 2 = 18 \n",
            "9 * 3 = 27 \n",
            "9 * 4 = 36 \n",
            "9 * 5 = 45 \n",
            "9 * 6 = 54 \n",
            "9 * 7 = 63 \n",
            "9 * 8 = 72 \n",
            "9 * 9 = 81 \n",
            "9 * 10 = 90 \n",
            "9 * 11 = 99 \n",
            "9 * 12 = 108 \n",
            "Would you like to run the program again? (yes/no) no\n",
            "Program has ended....\n"
          ]
        }
      ],
      "source": [
        "# Bryan Nguyen\n",
        "# #03/19/2025\n",
        "# P4LAB2\n",
        "# Using a loop inside a while loop to print math.\n",
        "\n",
        "# Create the variable to control the while loop\n",
        "run_again = \"yes\"\n",
        "\n",
        "# While loop that controls the whole program\n",
        "while run_again != \"no\":\n",
        "  # Get int from user\n",
        "  user_num = int(input(\"Enter an integer: \"))\n",
        "  if user_num < 0:\n",
        "    print(\"Negative numbers are not valid.\")\n",
        "  else: # user_num is 0 or greater\n",
        "    for i in range(1,13):\n",
        "      print(f\"{user_num} * {i} = {user_num*i} \")\n",
        "  run_again = input(\"Would you like to run the program again? (yes/no) \")\n",
        "# While loop ends here\n",
        "print(\"Program has ended......\")"
      ]
    }
  ]
}